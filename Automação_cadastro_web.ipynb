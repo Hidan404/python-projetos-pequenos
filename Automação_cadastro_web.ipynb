{
 "cells": [
  {
   "cell_type": "markdown",
   "id": "cb799e3b-8730-4dc8-b556-77b7bcf50d75",
   "metadata": {},
   "source": [
    "# "
   ]
  },
  {
   "cell_type": "markdown",
   "id": "34932e31-9dfa-45eb-92a3-810a9282f142",
   "metadata": {},
   "source": [
    "# "
   ]
  },
  {
   "cell_type": "code",
   "execution_count": 3,
   "id": "caa72abd-f747-4e70-b295-3cb1a5d17631",
   "metadata": {},
   "outputs": [
    {
     "ename": "FailSafeException",
     "evalue": "PyAutoGUI fail-safe triggered from mouse moving to a corner of the screen. To disable this fail-safe, set pyautogui.FAILSAFE to False. DISABLING FAIL-SAFE IS NOT RECOMMENDED.",
     "output_type": "error",
     "traceback": [
      "\u001b[1;31m---------------------------------------------------------------------------\u001b[0m",
      "\u001b[1;31mFailSafeException\u001b[0m                         Traceback (most recent call last)",
      "Cell \u001b[1;32mIn[3], line 67\u001b[0m\n\u001b[0;32m     64\u001b[0m     preencher_formulario(tabela)\n\u001b[0;32m     66\u001b[0m \u001b[38;5;28;01mif\u001b[39;00m \u001b[38;5;18m__name__\u001b[39m \u001b[38;5;241m==\u001b[39m \u001b[38;5;124m\"\u001b[39m\u001b[38;5;124m__main__\u001b[39m\u001b[38;5;124m\"\u001b[39m:\n\u001b[1;32m---> 67\u001b[0m     main()\n",
      "Cell \u001b[1;32mIn[3], line 64\u001b[0m, in \u001b[0;36mmain\u001b[1;34m()\u001b[0m\n\u001b[0;32m     61\u001b[0m realizar_login(email, senha)\n\u001b[0;32m     63\u001b[0m tabela \u001b[38;5;241m=\u001b[39m pd\u001b[38;5;241m.\u001b[39mread_csv(\u001b[38;5;124m\"\u001b[39m\u001b[38;5;124mprodutos.csv\u001b[39m\u001b[38;5;124m\"\u001b[39m, skiprows\u001b[38;5;241m=\u001b[39m\u001b[38;5;241m1\u001b[39m, header\u001b[38;5;241m=\u001b[39m\u001b[38;5;28;01mNone\u001b[39;00m, names\u001b[38;5;241m=\u001b[39m[\u001b[38;5;124m'\u001b[39m\u001b[38;5;124mcodigo\u001b[39m\u001b[38;5;124m'\u001b[39m, \u001b[38;5;124m'\u001b[39m\u001b[38;5;124mmarca\u001b[39m\u001b[38;5;124m'\u001b[39m, \u001b[38;5;124m'\u001b[39m\u001b[38;5;124mtipo\u001b[39m\u001b[38;5;124m'\u001b[39m, \u001b[38;5;124m'\u001b[39m\u001b[38;5;124mcategoria\u001b[39m\u001b[38;5;124m'\u001b[39m, \u001b[38;5;124m'\u001b[39m\u001b[38;5;124mpreco_unitario\u001b[39m\u001b[38;5;124m'\u001b[39m, \u001b[38;5;124m'\u001b[39m\u001b[38;5;124mcusto\u001b[39m\u001b[38;5;124m'\u001b[39m, \u001b[38;5;124m'\u001b[39m\u001b[38;5;124mobs\u001b[39m\u001b[38;5;124m'\u001b[39m])\n\u001b[1;32m---> 64\u001b[0m preencher_formulario(tabela)\n",
      "Cell \u001b[1;32mIn[3], line 26\u001b[0m, in \u001b[0;36mpreencher_formulario\u001b[1;34m(tabela)\u001b[0m\n\u001b[0;32m     24\u001b[0m \u001b[38;5;28;01mfor\u001b[39;00m _, linha \u001b[38;5;129;01min\u001b[39;00m tabela\u001b[38;5;241m.\u001b[39miterrows():\n\u001b[0;32m     25\u001b[0m     preencher_campos(linha)\n\u001b[1;32m---> 26\u001b[0m     submeter_formulario()\n",
      "Cell \u001b[1;32mIn[3], line 52\u001b[0m, in \u001b[0;36msubmeter_formulario\u001b[1;34m()\u001b[0m\n\u001b[0;32m     50\u001b[0m \u001b[38;5;28;01mdef\u001b[39;00m \u001b[38;5;21msubmeter_formulario\u001b[39m():\n\u001b[0;32m     51\u001b[0m     pa\u001b[38;5;241m.\u001b[39mpress(\u001b[38;5;124m\"\u001b[39m\u001b[38;5;124mtab\u001b[39m\u001b[38;5;124m\"\u001b[39m)\n\u001b[1;32m---> 52\u001b[0m     pa\u001b[38;5;241m.\u001b[39mpress(\u001b[38;5;124m\"\u001b[39m\u001b[38;5;124menter\u001b[39m\u001b[38;5;124m\"\u001b[39m)\n\u001b[0;32m     53\u001b[0m     time\u001b[38;5;241m.\u001b[39msleep(\u001b[38;5;241m1\u001b[39m)\n",
      "File \u001b[1;32m~\\anaconda3\\Lib\\site-packages\\pyautogui\\__init__.py:593\u001b[0m, in \u001b[0;36m_genericPyAutoGUIChecks.<locals>.wrapper\u001b[1;34m(*args, **kwargs)\u001b[0m\n\u001b[0;32m    591\u001b[0m \u001b[38;5;129m@functools\u001b[39m\u001b[38;5;241m.\u001b[39mwraps(wrappedFunction)\n\u001b[0;32m    592\u001b[0m \u001b[38;5;28;01mdef\u001b[39;00m \u001b[38;5;21mwrapper\u001b[39m(\u001b[38;5;241m*\u001b[39margs, \u001b[38;5;241m*\u001b[39m\u001b[38;5;241m*\u001b[39mkwargs):\n\u001b[1;32m--> 593\u001b[0m     failSafeCheck()\n\u001b[0;32m    594\u001b[0m     returnVal \u001b[38;5;241m=\u001b[39m wrappedFunction(\u001b[38;5;241m*\u001b[39margs, \u001b[38;5;241m*\u001b[39m\u001b[38;5;241m*\u001b[39mkwargs)\n\u001b[0;32m    595\u001b[0m     _handlePause(kwargs\u001b[38;5;241m.\u001b[39mget(\u001b[38;5;124m\"\u001b[39m\u001b[38;5;124m_pause\u001b[39m\u001b[38;5;124m\"\u001b[39m, \u001b[38;5;28;01mTrue\u001b[39;00m))\n",
      "File \u001b[1;32m~\\anaconda3\\Lib\\site-packages\\pyautogui\\__init__.py:1734\u001b[0m, in \u001b[0;36mfailSafeCheck\u001b[1;34m()\u001b[0m\n\u001b[0;32m   1732\u001b[0m \u001b[38;5;28;01mdef\u001b[39;00m \u001b[38;5;21mfailSafeCheck\u001b[39m():\n\u001b[0;32m   1733\u001b[0m     \u001b[38;5;28;01mif\u001b[39;00m FAILSAFE \u001b[38;5;129;01mand\u001b[39;00m \u001b[38;5;28mtuple\u001b[39m(position()) \u001b[38;5;129;01min\u001b[39;00m FAILSAFE_POINTS:\n\u001b[1;32m-> 1734\u001b[0m         \u001b[38;5;28;01mraise\u001b[39;00m FailSafeException(\n\u001b[0;32m   1735\u001b[0m             \u001b[38;5;124m\"\u001b[39m\u001b[38;5;124mPyAutoGUI fail-safe triggered from mouse moving to a corner of the screen. To disable this fail-safe, set pyautogui.FAILSAFE to False. DISABLING FAIL-SAFE IS NOT RECOMMENDED.\u001b[39m\u001b[38;5;124m\"\u001b[39m\n\u001b[0;32m   1736\u001b[0m         )\n",
      "\u001b[1;31mFailSafeException\u001b[0m: PyAutoGUI fail-safe triggered from mouse moving to a corner of the screen. To disable this fail-safe, set pyautogui.FAILSAFE to False. DISABLING FAIL-SAFE IS NOT RECOMMENDED."
     ]
    }
   ],
   "source": [
    "import pyautogui as pa\n",
    "import time\n",
    "import pandas as pd\n",
    "\n",
    "pa.PAUSE = 0.5\n",
    "\n",
    "def abrir_navegador(url):\n",
    "    pa.press(\"win\")\n",
    "    pa.write(\"edge\")\n",
    "    pa.press(\"enter\")\n",
    "    pa.write(url)\n",
    "    pa.press(\"enter\")\n",
    "    time.sleep(3)\n",
    "\n",
    "def realizar_login(email, senha):\n",
    "    pa.click(x=689, y=388)  \n",
    "    pa.write(email)\n",
    "    pa.press(\"tab\")\n",
    "    pa.write(senha)\n",
    "    pa.press(\"tab\")\n",
    "    pa.press(\"enter\")\n",
    "\n",
    "def preencher_formulario(tabela):\n",
    "    for _, linha in tabela.iterrows():\n",
    "        preencher_campos(linha)\n",
    "        submeter_formulario()\n",
    "\n",
    "def preencher_campos(linha):\n",
    "    pa.click(x=676, y=277)\n",
    "    pa.write(str(linha[\"codigo\"]))\n",
    "    \n",
    "    pa.click(x=676, y=327)\n",
    "    pa.write(str(linha[\"marca\"]))\n",
    "    \n",
    "    pa.press(\"tab\")\n",
    "    pa.write(str(linha[\"tipo\"]))\n",
    "    \n",
    "    pa.press(\"tab\")\n",
    "    pa.write(str(linha[\"categoria\"]))\n",
    "    \n",
    "    pa.press(\"tab\")\n",
    "    pa.write(str(linha[\"preco_unitario\"]))\n",
    "    \n",
    "    pa.press(\"tab\")\n",
    "    pa.write(str(linha[\"custo\"]))\n",
    "    \n",
    "    pa.press(\"tab\")\n",
    "    pa.write(str(linha[\"obs\"]))\n",
    "\n",
    "def submeter_formulario():\n",
    "    pa.press(\"tab\")\n",
    "    pa.press(\"enter\")\n",
    "    time.sleep(1)\n",
    "\n",
    "def main():\n",
    "    url = \"https://dlp.hashtagtreinamentos.com/python/intensivao/login\"\n",
    "    email = \"ronifdfd@gmail.com\"\n",
    "    senha = \"123456\"\n",
    "\n",
    "    abrir_navegador(url)\n",
    "    realizar_login(email, senha)\n",
    "\n",
    "    tabela = pd.read_csv(\"produtos.csv\", skiprows=1, header=None, names=['codigo', 'marca', 'tipo', 'categoria', 'preco_unitario', 'custo', 'obs'])\n",
    "    preencher_formulario(tabela)\n",
    "\n",
    "if __name__ == \"__main__\":\n",
    "    main()\n"
   ]
  },
  {
   "cell_type": "markdown",
   "id": "6a056fbe-1ba3-43ad-b7b2-9337d9137599",
   "metadata": {},
   "source": [
    "# "
   ]
  },
  {
   "cell_type": "code",
   "execution_count": null,
   "id": "6575ab24-1073-4e8c-883d-e3672c717960",
   "metadata": {},
   "outputs": [],
   "source": []
  },
  {
   "cell_type": "code",
   "execution_count": null,
   "id": "8155dc84-a075-4103-9167-8784f299aa3d",
   "metadata": {},
   "outputs": [],
   "source": []
  },
  {
   "cell_type": "code",
   "execution_count": null,
   "id": "bd883d2e-9069-477a-ac91-10db5a795ea3",
   "metadata": {},
   "outputs": [],
   "source": []
  }
 ],
 "metadata": {
  "kernelspec": {
   "display_name": "Python [conda env:base] *",
   "language": "python",
   "name": "conda-base-py"
  },
  "language_info": {
   "codemirror_mode": {
    "name": "ipython",
    "version": 3
   },
   "file_extension": ".py",
   "mimetype": "text/x-python",
   "name": "python",
   "nbconvert_exporter": "python",
   "pygments_lexer": "ipython3",
   "version": "3.12.7"
  }
 },
 "nbformat": 4,
 "nbformat_minor": 5
}
